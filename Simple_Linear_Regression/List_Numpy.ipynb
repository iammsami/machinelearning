{
 "cells": [
  {
   "cell_type": "markdown",
   "id": "0096c207",
   "metadata": {},
   "source": [
    "![](https://gradfutures.princeton.edu/sites/gradprofdev/files/events/numpylogo_-_gabe_perez-giz.png)\n",
    "# NUMPY ARRAY and LIST\n"
   ]
  },
  {
   "cell_type": "code",
   "execution_count": 129,
   "id": "3632aa8f",
   "metadata": {},
   "outputs": [],
   "source": [
    "db = [\n",
    "    [1 , \"Sami\" , \"PASS\"],\n",
    "    [2 , \"Pop\" , \"FAIL\"],\n",
    "    [3 , \"Summit\" , \"BACK\"]\n",
    "    ]"
   ]
  },
  {
   "cell_type": "code",
   "execution_count": 130,
   "id": "6e14ce9c",
   "metadata": {
    "scrolled": false
   },
   "outputs": [
    {
     "data": {
      "text/plain": [
       "[[1, 'Sami', 'PASS'], [2, 'Pop', 'FAIL'], [3, 'Summit', 'BACK']]"
      ]
     },
     "execution_count": 130,
     "metadata": {},
     "output_type": "execute_result"
    }
   ],
   "source": [
    "db\n"
   ]
  },
  {
   "cell_type": "code",
   "execution_count": 131,
   "id": "acab039c",
   "metadata": {},
   "outputs": [
    {
     "name": "stdout",
     "output_type": "stream",
     "text": [
      "Sami\n",
      "Pop\n",
      "Summit\n"
     ]
    }
   ],
   "source": [
    "for i in db:\n",
    "    print(i[1])\n",
    "    #row = row+1"
   ]
  },
  {
   "cell_type": "code",
   "execution_count": 106,
   "id": "70852baf",
   "metadata": {},
   "outputs": [],
   "source": [
    "import numpy "
   ]
  },
  {
   "cell_type": "code",
   "execution_count": 107,
   "id": "01468107",
   "metadata": {},
   "outputs": [],
   "source": [
    "db=numpy.array(db)"
   ]
  },
  {
   "cell_type": "code",
   "execution_count": 108,
   "id": "7fbb5bc1",
   "metadata": {},
   "outputs": [
    {
     "data": {
      "text/plain": [
       "(3, 3)"
      ]
     },
     "execution_count": 108,
     "metadata": {},
     "output_type": "execute_result"
    }
   ],
   "source": [
    "db.shape"
   ]
  },
  {
   "cell_type": "code",
   "execution_count": 117,
   "id": "d8487208",
   "metadata": {},
   "outputs": [],
   "source": [
    "a=[1,2,3,4,5,6,7,8]"
   ]
  },
  {
   "cell_type": "code",
   "execution_count": 118,
   "id": "aba9ff8c",
   "metadata": {},
   "outputs": [],
   "source": [
    "a=numpy.array(a)"
   ]
  },
  {
   "cell_type": "code",
   "execution_count": 127,
   "id": "e3526ead",
   "metadata": {},
   "outputs": [
    {
     "data": {
      "text/plain": [
       "array([[1],\n",
       "       [2],\n",
       "       [3],\n",
       "       [4],\n",
       "       [5],\n",
       "       [6],\n",
       "       [7],\n",
       "       [8]])"
      ]
     },
     "execution_count": 127,
     "metadata": {},
     "output_type": "execute_result"
    }
   ],
   "source": [
    "a"
   ]
  },
  {
   "cell_type": "code",
   "execution_count": 128,
   "id": "54f08427",
   "metadata": {},
   "outputs": [
    {
     "data": {
      "text/plain": [
       "array([[1],\n",
       "       [2],\n",
       "       [3],\n",
       "       [4],\n",
       "       [5],\n",
       "       [6],\n",
       "       [7],\n",
       "       [8]])"
      ]
     },
     "execution_count": 128,
     "metadata": {},
     "output_type": "execute_result"
    }
   ],
   "source": [
    "a.reshape(-1,1)"
   ]
  },
  {
   "cell_type": "code",
   "execution_count": 109,
   "id": "f24dc6a4",
   "metadata": {},
   "outputs": [],
   "source": [
    "x=db[2:4 , 1 : 3]"
   ]
  },
  {
   "cell_type": "code",
   "execution_count": 110,
   "id": "93911b85",
   "metadata": {},
   "outputs": [
    {
     "data": {
      "text/plain": [
       "(1, 2)"
      ]
     },
     "execution_count": 110,
     "metadata": {},
     "output_type": "execute_result"
    }
   ],
   "source": [
    "x.shape"
   ]
  },
  {
   "cell_type": "code",
   "execution_count": null,
   "id": "9b542bd3",
   "metadata": {},
   "outputs": [],
   "source": [
    "[[1, 'Sami', 'PASS'],\n",
    " [2, 'Pop', 'FAIL'],\n",
    " [3, 'Summit', 'BACK'],\n",
    " [4, 'Rakesh', 'PASS'"
   ]
  }
 ],
 "metadata": {
  "kernelspec": {
   "display_name": "Python 3",
   "language": "python",
   "name": "python3"
  },
  "language_info": {
   "codemirror_mode": {
    "name": "ipython",
    "version": 3
   },
   "file_extension": ".py",
   "mimetype": "text/x-python",
   "name": "python",
   "nbconvert_exporter": "python",
   "pygments_lexer": "ipython3",
   "version": "3.8.5"
  }
 },
 "nbformat": 4,
 "nbformat_minor": 5
}
