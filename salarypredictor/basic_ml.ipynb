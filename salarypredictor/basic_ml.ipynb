{
 "cells": [
  {
   "cell_type": "code",
   "execution_count": 70,
   "metadata": {},
   "outputs": [
    {
     "data": {
      "text/plain": [
       "array([121236.81964536])"
      ]
     },
     "execution_count": 70,
     "metadata": {},
     "output_type": "execute_result"
    }
   ],
   "source": [
    "#pandas for working of Row x Column Data\n",
    "import pandas\n",
    "#storing the data in the varaible data\n",
    "data=pandas.read_csv('Salary_Data.csv')\n",
    "#Separting the Salary and Exp in two variables x and y\n",
    "y=data['Salary']\n",
    "x=data['YearsExperience']\n",
    "#Converting the data to 2d array\n",
    "x=x.values\n",
    "x=x.reshape(-1,1)\n",
    "#importing the sklearn library for model training and prediction\n",
    "from sklearn.linear_model import LinearRegression\n",
    "#using the linear regression function\n",
    "model=LinearRegression()\n",
    "#training the model \n",
    "model.fit(x,y)\n",
    "#predicting the value of the value answered\n",
    "model.predict([[10.1]])"
   ]
  },
  {
   "cell_type": "code",
   "execution_count": 71,
   "metadata": {},
   "outputs": [
    {
     "data": {
      "text/plain": [
       "['salary.pk1']"
      ]
     },
     "execution_count": 71,
     "metadata": {},
     "output_type": "execute_result"
    }
   ],
   "source": [
    "#Job Lib is used to create our ML MOdel and use in our daily life but after it is trained\n",
    "import joblib\n",
    "joblib.dump(model,'salary.pk1')"
   ]
  },
  {
   "cell_type": "code",
   "execution_count": null,
   "metadata": {},
   "outputs": [],
   "source": []
  }
 ],
 "metadata": {
  "kernelspec": {
   "display_name": "Python 3",
   "language": "python",
   "name": "python3"
  },
  "language_info": {
   "codemirror_mode": {
    "name": "ipython",
    "version": 3
   },
   "file_extension": ".py",
   "mimetype": "text/x-python",
   "name": "python",
   "nbconvert_exporter": "python",
   "pygments_lexer": "ipython3",
   "version": "3.8.3"
  }
 },
 "nbformat": 4,
 "nbformat_minor": 4
}
